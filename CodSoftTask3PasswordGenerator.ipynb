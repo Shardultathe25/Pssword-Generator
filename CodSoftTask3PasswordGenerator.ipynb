{
 "cells": [
  {
   "cell_type": "markdown",
   "id": "2d845b0e-89c7-4c16-bb7e-2a2eff927586",
   "metadata": {},
   "source": [
    "## Random Password Generator"
   ]
  },
  {
   "cell_type": "markdown",
   "id": "174c80cd-d376-4934-890e-787fb5c79f20",
   "metadata": {},
   "source": [
    "Description: Example of generating a random password in Python."
   ]
  },
  {
   "cell_type": "code",
   "execution_count": 10,
   "id": "8a6f6053-92d8-479d-bbba-3ea9559cc5aa",
   "metadata": {},
   "outputs": [],
   "source": [
    "#Importing the Necessary Libraries\n",
    "\n",
    "import random\n",
    "import string"
   ]
  },
  {
   "cell_type": "markdown",
   "id": "63572ee6-950e-4573-9556-3733f211113b",
   "metadata": {},
   "source": [
    "Prompt the user to enter the length of the password to generate, \n",
    "store the length entered by the user into length after converting it to an 'int'"
   ]
  },
  {
   "cell_type": "code",
   "execution_count": 11,
   "id": "56ac3c08-96c9-4f03-aae1-3a28bd2d7d59",
   "metadata": {},
   "outputs": [
    {
     "name": "stdin",
     "output_type": "stream",
     "text": [
      "Enter Length:  8\n"
     ]
    }
   ],
   "source": [
    "length = int(input(\"Enter Length: \"))"
   ]
  },
  {
   "cell_type": "code",
   "execution_count": null,
   "id": "23db4ee0-2adf-47e5-b6c0-ced4726c55be",
   "metadata": {},
   "outputs": [],
   "source": [
    "The string module contains strings constants for groups of characters such \n",
    "as punctuation marks, ascii letters and digits.  These groups of characters \n",
    "are the groups of characters typically allowed in a password.  We concatenate\n",
    "together these strings to create a string made up of the possible characters \n",
    "our password may contain.  We'll randomly choose characters from this string \n",
    "to build our password."
   ]
  },
  {
   "cell_type": "code",
   "execution_count": 12,
   "id": "7e26e0ff-a3c1-49d3-8913-7c0722507a3a",
   "metadata": {},
   "outputs": [],
   "source": [
    "chars = string.ascii_letters\n",
    "chars += string.digits\n",
    "chars += string.punctuation"
   ]
  },
  {
   "cell_type": "code",
   "execution_count": 13,
   "id": "724d9e79-435d-4c1d-aa25-3e48de730ca3",
   "metadata": {},
   "outputs": [],
   "source": [
    "# Begin the password as an empty string\n",
    "password = \"\""
   ]
  },
  {
   "cell_type": "markdown",
   "id": "23a3dadb-08e1-4f75-a2ec-256ec5d53d65",
   "metadata": {},
   "source": [
    "The loop will run 'length' number of times, and with each iteration we \n",
    "randomly select a character from the string chars using the choice function\n",
    "of the random module, and we concatenate it to password.  This will give us\n",
    "a string of random characters with the desired length.  "
   ]
  },
  {
   "cell_type": "code",
   "execution_count": 14,
   "id": "772bc446-7aae-4cdf-9e4e-0e0bf1baffdc",
   "metadata": {},
   "outputs": [],
   "source": [
    "for i in range(length):\n",
    "    password += random.choice(chars)"
   ]
  },
  {
   "cell_type": "markdown",
   "id": "fbed5f4f-8b17-486d-8e4f-1b390372efe9",
   "metadata": {},
   "source": [
    "We could alternatively create the random password in one line using a list\n",
    "comprehension.  The list comprehension here that is an argument of the join\n",
    "string method will give us a list with 'length' number of elements, each of \n",
    "which is a character chosen at random from chars (technically, each element\n",
    "is a string of one character).  The join string method will then join these\n",
    "string together, separated by '' nothing, to give us our password."
   ]
  },
  {
   "cell_type": "code",
   "execution_count": 15,
   "id": "0ed53e6b-abfd-4ceb-8cf8-9f6d655e4757",
   "metadata": {},
   "outputs": [],
   "source": [
    "password = ''.join([random.choice(chars) for i in range(length)])"
   ]
  },
  {
   "cell_type": "code",
   "execution_count": 16,
   "id": "1884635e-5575-469c-87c7-df66bd5aa4f2",
   "metadata": {},
   "outputs": [
    {
     "name": "stdout",
     "output_type": "stream",
     "text": [
      "Your random password is: Op\\%)3G<\n"
     ]
    }
   ],
   "source": [
    "print(\"Your random password is:\", password)"
   ]
  },
  {
   "cell_type": "markdown",
   "id": "ef541ca4-799f-48b7-b177-fd7b6ba926a1",
   "metadata": {},
   "source": [
    "Thank You!"
   ]
  }
 ],
 "metadata": {
  "kernelspec": {
   "display_name": "Python 3 (ipykernel)",
   "language": "python",
   "name": "python3"
  },
  "language_info": {
   "codemirror_mode": {
    "name": "ipython",
    "version": 3
   },
   "file_extension": ".py",
   "mimetype": "text/x-python",
   "name": "python",
   "nbconvert_exporter": "python",
   "pygments_lexer": "ipython3",
   "version": "3.9.13"
  }
 },
 "nbformat": 4,
 "nbformat_minor": 5
}
